{
 "cells": [
  {
   "cell_type": "markdown",
   "metadata": {},
   "source": [
    "# A very quick intro to sim in python"
   ]
  },
  {
   "cell_type": "code",
   "execution_count": 1,
   "metadata": {},
   "outputs": [],
   "source": [
    "import numpy as np\n"
   ]
  },
  {
   "cell_type": "code",
   "execution_count": 2,
   "metadata": {},
   "outputs": [],
   "source": [
    "x = np.random.rand(5)"
   ]
  },
  {
   "cell_type": "code",
   "execution_count": 3,
   "metadata": {},
   "outputs": [
    {
     "data": {
      "text/plain": [
       "array([0.85680187, 0.89979378, 0.79691071, 0.0688851 , 0.89520743])"
      ]
     },
     "execution_count": 3,
     "metadata": {},
     "output_type": "execute_result"
    }
   ],
   "source": [
    "x"
   ]
  },
  {
   "cell_type": "code",
   "execution_count": 5,
   "metadata": {},
   "outputs": [],
   "source": [
    "x = np.random.choice(range(10), size=10)"
   ]
  },
  {
   "cell_type": "code",
   "execution_count": 6,
   "metadata": {},
   "outputs": [
    {
     "data": {
      "text/plain": [
       "array([3, 3, 0, 7, 8, 2, 1, 6, 8, 6])"
      ]
     },
     "execution_count": 6,
     "metadata": {},
     "output_type": "execute_result"
    }
   ],
   "source": [
    "x"
   ]
  },
  {
   "cell_type": "markdown",
   "metadata": {},
   "source": [
    "# Uniform distribution"
   ]
  },
  {
   "cell_type": "code",
   "execution_count": 7,
   "metadata": {},
   "outputs": [],
   "source": [
    "dice = [1,2,3,4,5,6]"
   ]
  },
  {
   "cell_type": "code",
   "execution_count": 8,
   "metadata": {},
   "outputs": [
    {
     "data": {
      "text/plain": [
       "[1, 2, 3, 4, 5, 6]"
      ]
     },
     "execution_count": 8,
     "metadata": {},
     "output_type": "execute_result"
    }
   ],
   "source": [
    "dice"
   ]
  },
  {
   "cell_type": "code",
   "execution_count": 11,
   "metadata": {},
   "outputs": [],
   "source": [
    "roll = np.random.choice(dice, size=1)"
   ]
  },
  {
   "cell_type": "code",
   "execution_count": 12,
   "metadata": {},
   "outputs": [
    {
     "data": {
      "text/plain": [
       "array([4])"
      ]
     },
     "execution_count": 12,
     "metadata": {},
     "output_type": "execute_result"
    }
   ],
   "source": [
    "roll"
   ]
  },
  {
   "cell_type": "code",
   "execution_count": 13,
   "metadata": {},
   "outputs": [],
   "source": [
    "rolls = []\n",
    "for i in range(10):\n",
    "    roll = np.random.choice(dice, size=1)\n",
    "    rolls.append(roll)"
   ]
  },
  {
   "cell_type": "code",
   "execution_count": 14,
   "metadata": {},
   "outputs": [
    {
     "data": {
      "text/plain": [
       "[array([1]),\n",
       " array([6]),\n",
       " array([3]),\n",
       " array([2]),\n",
       " array([5]),\n",
       " array([5]),\n",
       " array([1]),\n",
       " array([5]),\n",
       " array([4]),\n",
       " array([3])]"
      ]
     },
     "execution_count": 14,
     "metadata": {},
     "output_type": "execute_result"
    }
   ],
   "source": [
    "rolls"
   ]
  },
  {
   "cell_type": "code",
   "execution_count": null,
   "metadata": {},
   "outputs": [],
   "source": []
  },
  {
   "cell_type": "markdown",
   "metadata": {},
   "source": [
    "# Normal distribution"
   ]
  },
  {
   "cell_type": "code",
   "execution_count": 19,
   "metadata": {},
   "outputs": [],
   "source": [
    "norm = np.random.normal(size=100)"
   ]
  },
  {
   "cell_type": "code",
   "execution_count": 20,
   "metadata": {},
   "outputs": [
    {
     "data": {
      "text/plain": [
       "array([-2.22204024, -0.52800817, -0.39178918, -1.65582873,  0.34370982,\n",
       "        0.00527119, -1.75467596, -0.54731049, -0.50302952, -1.4417984 ,\n",
       "        0.07109493, -1.85650592, -0.29961185,  0.7308743 , -1.42876664,\n",
       "        0.56477951, -0.40785645,  1.06562861, -0.38137242,  0.50583908,\n",
       "       -0.12103628,  1.19326741,  0.25971743,  1.57767239, -1.35513261,\n",
       "        0.92033026,  0.47558284,  0.19600111,  0.79835799, -0.21061281,\n",
       "        0.11150155,  0.35461596,  1.64168828,  0.05395004, -2.59289931,\n",
       "        0.93523652,  1.28235903,  1.74509119,  0.10755293, -0.22542561,\n",
       "        0.30216469, -0.13825876, -0.97302133,  0.96868816,  1.61763412,\n",
       "        0.73260591,  0.38802522, -1.15925801, -0.74192548,  0.16661615,\n",
       "        1.14764753, -0.22556514, -1.67817643, -1.56003779,  0.78270249,\n",
       "        0.82195079,  0.07828005, -0.41813434, -0.41187667, -0.24017737,\n",
       "        1.56311999, -2.56584209,  1.73128247,  1.00093243, -1.06152531,\n",
       "       -0.28326266,  0.40536332,  0.56056526,  1.69084024,  1.39820763,\n",
       "        1.64261827,  1.02226936,  1.60980435, -0.31508523, -0.65738775,\n",
       "       -0.25909992, -0.6380042 , -0.98394968, -1.47151448,  0.48094108,\n",
       "        0.32179689, -0.25429988, -0.49214682, -0.19236228,  0.74014037,\n",
       "       -1.32982171,  0.20063147, -0.53740574, -0.94821341,  1.18970141,\n",
       "        0.85101672,  0.18295383,  0.49394607, -0.40619861, -0.65446688,\n",
       "        1.521367  , -1.03686626, -0.27233692,  1.68647306,  1.38619689])"
      ]
     },
     "execution_count": 20,
     "metadata": {},
     "output_type": "execute_result"
    }
   ],
   "source": [
    "norm"
   ]
  },
  {
   "cell_type": "markdown",
   "metadata": {},
   "source": [
    "# Binomial Distrbution"
   ]
  },
  {
   "cell_type": "code",
   "execution_count": 25,
   "metadata": {},
   "outputs": [
    {
     "data": {
      "text/plain": [
       "array([1])"
      ]
     },
     "execution_count": 25,
     "metadata": {},
     "output_type": "execute_result"
    }
   ],
   "source": [
    "np.random.binomial(n=1, p=.5, size=1)"
   ]
  },
  {
   "cell_type": "code",
   "execution_count": 28,
   "metadata": {},
   "outputs": [
    {
     "data": {
      "text/plain": [
       "array([5])"
      ]
     },
     "execution_count": 28,
     "metadata": {},
     "output_type": "execute_result"
    }
   ],
   "source": [
    "# repeat experiment\n",
    "np.random.binomial(n=10, p=.5, size=1)"
   ]
  },
  {
   "cell_type": "code",
   "execution_count": 30,
   "metadata": {},
   "outputs": [],
   "source": [
    "x = np.random.poisson(100, 109)"
   ]
  },
  {
   "cell_type": "markdown",
   "metadata": {},
   "source": [
    "# Poisson"
   ]
  },
  {
   "cell_type": "code",
   "execution_count": 36,
   "metadata": {},
   "outputs": [],
   "source": [
    "p = np.random.poisson(100, 10)"
   ]
  },
  {
   "cell_type": "code",
   "execution_count": 37,
   "metadata": {},
   "outputs": [
    {
     "data": {
      "text/plain": [
       "array([104, 122, 102,  95, 109,  92, 104, 103, 113, 112])"
      ]
     },
     "execution_count": 37,
     "metadata": {},
     "output_type": "execute_result"
    }
   ],
   "source": [
    "p"
   ]
  },
  {
   "cell_type": "code",
   "execution_count": 38,
   "metadata": {},
   "outputs": [
    {
     "data": {
      "text/plain": [
       "array([122, 113, 112])"
      ]
     },
     "execution_count": 38,
     "metadata": {},
     "output_type": "execute_result"
    }
   ],
   "source": [
    "p[p>110]"
   ]
  },
  {
   "cell_type": "code",
   "execution_count": null,
   "metadata": {},
   "outputs": [],
   "source": []
  }
 ],
 "metadata": {
  "kernelspec": {
   "display_name": "Python 3",
   "language": "python",
   "name": "python3"
  },
  "language_info": {
   "codemirror_mode": {
    "name": "ipython",
    "version": 3
   },
   "file_extension": ".py",
   "mimetype": "text/x-python",
   "name": "python",
   "nbconvert_exporter": "python",
   "pygments_lexer": "ipython3",
   "version": "3.8.5"
  }
 },
 "nbformat": 4,
 "nbformat_minor": 4
}
