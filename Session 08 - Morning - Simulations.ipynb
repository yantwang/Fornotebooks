{
 "cells": [
  {
   "cell_type": "markdown",
   "metadata": {},
   "source": [
    "# Simulations\n",
    "\n",
    "Let's build on top of the Datacamp chapters and think about we can simulate scenarios to understand outcomes."
   ]
  },
  {
   "cell_type": "code",
   "execution_count": null,
   "metadata": {},
   "outputs": [],
   "source": [
    "# imports\n",
    "import numpy as np\n",
    "import random\n",
    "import matplotlib.pyplot as plt\n",
    "\n",
    "%matplotlib inline"
   ]
  },
  {
   "cell_type": "markdown",
   "metadata": {},
   "source": [
    "# Part 1\n",
    "\n",
    "We are going to use the `TSLA.csv` file found on QTools"
   ]
  },
  {
   "cell_type": "code",
   "execution_count": null,
   "metadata": {},
   "outputs": [],
   "source": [
    "# Quick exercise:  \n",
    "\n",
    "# run the starter code below\n",
    "\n",
    "# tsla = np.genfromtxt(\"TSLA.csv\", usecols=5, delimiter=\",\", skip_header=1)\n",
    "# tsla_delta = np.diff(tsla)"
   ]
  },
  {
   "cell_type": "code",
   "execution_count": null,
   "metadata": {},
   "outputs": [],
   "source": []
  },
  {
   "cell_type": "code",
   "execution_count": null,
   "metadata": {},
   "outputs": [],
   "source": [
    "# calculate the mean and standard deviation for the dataset tsla_delta\n"
   ]
  },
  {
   "cell_type": "code",
   "execution_count": null,
   "metadata": {},
   "outputs": [],
   "source": []
  },
  {
   "cell_type": "code",
   "execution_count": null,
   "metadata": {},
   "outputs": [],
   "source": []
  },
  {
   "cell_type": "code",
   "execution_count": null,
   "metadata": {},
   "outputs": [],
   "source": [
    "# let's simulate 50 observations using this information\n",
    "# I am going to refer to this as 1 experiment\n",
    "\n"
   ]
  },
  {
   "cell_type": "code",
   "execution_count": null,
   "metadata": {},
   "outputs": [],
   "source": [
    "# calculate the % of days (real) that were 5 or above\n"
   ]
  },
  {
   "cell_type": "code",
   "execution_count": null,
   "metadata": {},
   "outputs": [],
   "source": [
    "# what % of days (simulated) are above 5\n"
   ]
  },
  {
   "cell_type": "markdown",
   "metadata": {},
   "source": [
    "## Your Turn\n",
    "\n",
    "We are going to expand above.  \n",
    "\n",
    "1. Using the same mean/standard deviation calculated for tesla, each experiment will draw and observe 100 days\n",
    "1. Calculate the number of days where the returns are $7 or more\n",
    "1. Conduct this experiment a total of 75 times\n",
    "1. What is the average across all experiments\n",
    "1. How does this compare to the observed data in `tsla_delta`"
   ]
  },
  {
   "cell_type": "code",
   "execution_count": null,
   "metadata": {},
   "outputs": [],
   "source": [
    "\n",
    "    \n",
    "    "
   ]
  },
  {
   "cell_type": "code",
   "execution_count": null,
   "metadata": {},
   "outputs": [],
   "source": []
  },
  {
   "cell_type": "markdown",
   "metadata": {},
   "source": [
    "# Part 2 - Coin Flipping (Anything with Yes/No like outcome)"
   ]
  },
  {
   "cell_type": "code",
   "execution_count": null,
   "metadata": {},
   "outputs": [],
   "source": [
    "# basics\n",
    "# SUCCESS_PROB = .5\n",
    "# np.random.choice([0,1], size=1, p=[SUCCESS_PROB, 1-SUCCESS_PROB])"
   ]
  },
  {
   "cell_type": "code",
   "execution_count": null,
   "metadata": {},
   "outputs": [],
   "source": [
    "# we could use binomial, but I like to see the result of each trial\n",
    "# size = 10 = # of trials.  I will refer to this as 1 run of the experiment\n"
   ]
  },
  {
   "cell_type": "code",
   "execution_count": null,
   "metadata": {},
   "outputs": [],
   "source": [
    "# in this case, sum shows us how many successes in the experiment\n"
   ]
  },
  {
   "cell_type": "code",
   "execution_count": null,
   "metadata": {},
   "outputs": [],
   "source": [
    "# something a little more practical\n",
    "# Let's say in professional sports (hockey) 10% of the shots on net result in a goal\n",
    "\n",
    "# assume all shots are of equal quality\n",
    "\n",
    "# let's say a goalie faces 1000 shots.  How many goals (successes) will they let up\n",
    "\n",
    "# quick exercise - code it up"
   ]
  },
  {
   "cell_type": "code",
   "execution_count": null,
   "metadata": {},
   "outputs": [],
   "source": []
  },
  {
   "cell_type": "code",
   "execution_count": null,
   "metadata": {},
   "outputs": [],
   "source": []
  },
  {
   "cell_type": "code",
   "execution_count": null,
   "metadata": {},
   "outputs": [],
   "source": []
  },
  {
   "cell_type": "markdown",
   "metadata": {},
   "source": [
    "## Breakout Exercise:\n",
    "\n",
    "The GM of the Boston Bruins contacted your analytics firm to help understand a shift in strategy they are looking to employ next season.\n",
    "\n",
    "The team allowed 167 goals last season on 2103 shots.  \n",
    "\n",
    "Moving forward, the team wants to understand how the following strategy would impact the number of goals allowed:\n",
    "\n",
    "1.  Shots can be taken from 3 zones, zone A, B and C.\n",
    "1.  The team wants to employ a strategy to shift where shots are taken from.  They believe that they can restrict their opponents to the following: zone A accounts for 15% of the shots, Zone B accounts for 65% of the shots, and Zone C the remaining 20%\n",
    "1.  The shot success rates for zone A, B and C are 5%, 10% and 8% respectively\n",
    "1.  The Bruins expect to allow 2100 shots next season\n",
    "\n",
    "Run 100 experiments, where for each experiment, there are 2100 shots using the information provided above.\n",
    "\n",
    "Across the 100 experiments, how many times would the Bruins reduce the number of goals allowed relative to 167 from the prior season?\n",
    "\n",
    "Would you recommend the strategy?\n"
   ]
  },
  {
   "cell_type": "code",
   "execution_count": null,
   "metadata": {},
   "outputs": [],
   "source": [
    "# many ways to do this\n",
    "# break the problem down\n",
    "# for each shot, we need to pick a zone, and then associate the probability of the shot going in\n",
    "# each experiment will have 2100 shots\n",
    "# will run 100 experiments\n",
    "\n"
   ]
  },
  {
   "cell_type": "code",
   "execution_count": null,
   "metadata": {},
   "outputs": [],
   "source": []
  },
  {
   "cell_type": "code",
   "execution_count": null,
   "metadata": {},
   "outputs": [],
   "source": []
  },
  {
   "cell_type": "markdown",
   "metadata": {},
   "source": [
    "# Part 3\n",
    "\n",
    "Let's say we know the number of events that occur in a given timeframe.  We can model this with the poisson distribution.\n",
    "\n"
   ]
  },
  {
   "cell_type": "code",
   "execution_count": null,
   "metadata": {},
   "outputs": [],
   "source": [
    "# visitors to your website in a given day\n",
    "# expected value, # of trials\n",
    "\n",
    "\n",
    "# np.random.poisson(1200)"
   ]
  },
  {
   "cell_type": "code",
   "execution_count": null,
   "metadata": {},
   "outputs": [],
   "source": [
    "# let's simulate for a week, and then a year\n"
   ]
  },
  {
   "cell_type": "code",
   "execution_count": null,
   "metadata": {},
   "outputs": [],
   "source": []
  },
  {
   "cell_type": "code",
   "execution_count": null,
   "metadata": {},
   "outputs": [],
   "source": []
  },
  {
   "cell_type": "code",
   "execution_count": null,
   "metadata": {},
   "outputs": [],
   "source": [
    "# lets do a quick plot\n",
    "# you will dive much deeper into plotting in your next course\n"
   ]
  },
  {
   "cell_type": "code",
   "execution_count": null,
   "metadata": {},
   "outputs": [],
   "source": [
    "# lets show the concept of the discrete and non-negative\n"
   ]
  },
  {
   "cell_type": "code",
   "execution_count": null,
   "metadata": {},
   "outputs": [],
   "source": [
    "# an example\n",
    "\n",
    "# A cafe owner contacted your analytics firm to help understand capacity\n",
    "\n",
    "# In a given week, they sell 1250 bagels that are baked in-house\n",
    "# They will lose money if they do not have enough ingredients to satisfy demand\n",
    "\n",
    "# Over a 52 week period, how many weeks can they expect to sell 1300 or more bagels?\n",
    "\n"
   ]
  },
  {
   "cell_type": "code",
   "execution_count": null,
   "metadata": {},
   "outputs": [],
   "source": []
  },
  {
   "cell_type": "markdown",
   "metadata": {},
   "source": [
    "## Breakout Exercise\n",
    "\n",
    "The same cafe owner from above has re-engaged your analytics firm to help estimate employee expenses which are a function of the number of orders.  \n",
    "\n",
    "1.  The cafe is open 252 days a year\n",
    "1.  On average, they have 2200 orders a day\n",
    "1.  The owner has estimated that they need 1 employee for every 300 orders\n",
    "1.  The daily cost for an employee is $125/day\n",
    "\n",
    "Simulate this exercise 100 times.  What is the average annual employee cost?"
   ]
  },
  {
   "cell_type": "code",
   "execution_count": null,
   "metadata": {},
   "outputs": [],
   "source": []
  },
  {
   "cell_type": "code",
   "execution_count": null,
   "metadata": {},
   "outputs": [],
   "source": []
  },
  {
   "cell_type": "code",
   "execution_count": null,
   "metadata": {},
   "outputs": [],
   "source": []
  },
  {
   "cell_type": "code",
   "execution_count": null,
   "metadata": {},
   "outputs": [],
   "source": []
  }
 ],
 "metadata": {
  "kernelspec": {
   "display_name": "Python 3",
   "language": "python",
   "name": "python3"
  },
  "language_info": {
   "codemirror_mode": {
    "name": "ipython",
    "version": 3
   },
   "file_extension": ".py",
   "mimetype": "text/x-python",
   "name": "python",
   "nbconvert_exporter": "python",
   "pygments_lexer": "ipython3",
   "version": "3.8.5"
  }
 },
 "nbformat": 4,
 "nbformat_minor": 4
}
