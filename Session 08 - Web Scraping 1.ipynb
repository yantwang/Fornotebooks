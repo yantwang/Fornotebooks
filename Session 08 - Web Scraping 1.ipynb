{
 "cells": [
  {
   "cell_type": "code",
   "execution_count": 1,
   "metadata": {},
   "outputs": [],
   "source": [
    "# imports\n",
    "import pandas as pd\n",
    "from bs4 import BeautifulSoup\n",
    "import requests\n",
    "import re"
   ]
  },
  {
   "cell_type": "markdown",
   "metadata": {},
   "source": [
    "# Basics"
   ]
  },
  {
   "cell_type": "code",
   "execution_count": null,
   "metadata": {},
   "outputs": [],
   "source": [
    "URL = \"https://en.wikipedia.org/wiki/Questrom_School_of_Business\""
   ]
  },
  {
   "cell_type": "code",
   "execution_count": null,
   "metadata": {},
   "outputs": [],
   "source": [
    "resp = requests.get(URL)"
   ]
  },
  {
   "cell_type": "code",
   "execution_count": null,
   "metadata": {},
   "outputs": [],
   "source": [
    "resp.status_code"
   ]
  },
  {
   "cell_type": "code",
   "execution_count": null,
   "metadata": {},
   "outputs": [],
   "source": [
    "resp.text"
   ]
  },
  {
   "cell_type": "code",
   "execution_count": null,
   "metadata": {},
   "outputs": [],
   "source": [
    "# soup\n",
    "soup = BeautifulSoup(resp.text, 'html.parser')"
   ]
  },
  {
   "cell_type": "code",
   "execution_count": null,
   "metadata": {},
   "outputs": [],
   "source": [
    "# title\n",
    "title = soup.find('title')\n",
    "title.text"
   ]
  },
  {
   "cell_type": "code",
   "execution_count": null,
   "metadata": {},
   "outputs": [],
   "source": [
    "soup.title.text "
   ]
  },
  {
   "cell_type": "code",
   "execution_count": null,
   "metadata": {},
   "outputs": [],
   "source": [
    "# body\n",
    "soup.body.text"
   ]
  },
  {
   "cell_type": "code",
   "execution_count": null,
   "metadata": {},
   "outputs": [],
   "source": [
    "body = soup.body.text\n",
    "body.strip().replace(\"\\n\", \" \")"
   ]
  },
  {
   "cell_type": "code",
   "execution_count": null,
   "metadata": {},
   "outputs": [],
   "source": [
    "# search for the body\n",
    "body = soup.find('body')\n",
    "body"
   ]
  },
  {
   "cell_type": "code",
   "execution_count": 19,
   "metadata": {},
   "outputs": [],
   "source": [
    "# look for the paragraphs\n",
    "pars = soup.find_all(\"p\")"
   ]
  },
  {
   "cell_type": "code",
   "execution_count": 21,
   "metadata": {},
   "outputs": [
    {
     "data": {
      "text/plain": [
       "bs4.element.ResultSet"
      ]
     },
     "execution_count": 21,
     "metadata": {},
     "output_type": "execute_result"
    }
   ],
   "source": [
    "type(pars)"
   ]
  },
  {
   "cell_type": "code",
   "execution_count": 22,
   "metadata": {},
   "outputs": [],
   "source": [
    "paragraphs = []\n",
    "for p in pars:\n",
    "    paragraphs.append(p.text)"
   ]
  },
  {
   "cell_type": "code",
   "execution_count": 23,
   "metadata": {},
   "outputs": [
    {
     "data": {
      "text/plain": [
       "['The Questrom School of Business (formerly, the Boston University School of Management) is the business school at Boston University in Boston, MA, USA. Founded in 1913 as the College of Business Administration, the school offers undergraduate and graduate programs.\\n',\n",
       " 'The BU Questrom School of Business offers a Bachelor of Science in Business Administration (BSBA), Master of Business Administration (MBA) degree (full- and part-time programs), a Master of Science (MS) in Mathematical Finance, a Master of Science in Management Studies (MSMS), executive education programs, and two Ph.D. programs. Both the undergraduate and graduate programs offer dual degree options with other schools and colleges at Boston University.\\n',\n",
       " 'Questrom has some 250 full-time faculty and some 200 part-time faculty, teaching fellows, and active research assistants.[1]\\n',\n",
       " 'October 13, 1913, Boston University business began classes for students in the College of Business Administration. The first three courses were English, Spanish, and Advertising. The Spanish course was taught by Dean Everett Lord. The third course (Advertising) was taught by Charles E. Ballatty.[2]\\n',\n",
       " 'In March 2015, the name was changed from the School of Management to the current, Questrom School of Business. It was named for alumnus Allen Questrom, a former CEO of many department stores, who with his wife Kelli, donated $50 million to Boston University.[3][4]\\n',\n",
       " 'The business school is housed in the Rafik B. Hariri Building, located at 595 Commonwealth Avenue. The building opened in October 1996 and contains over 40 classrooms, a 375-seat lecture hall, five computer labs, and the Frederick S. Pardee Management Library. The building offers wireless Internet access throughout as well as 4,000 wired dataports. A Breadwinners Deli and a wired Starbucks are located on the second floor of the building. The Hariri Building also contains 19 team rooms available only for undergraduate and graduate Questrom students to hold team meetings. Room reservations are made online.[5][6]\\n',\n",
       " \"The building is named after Rafik B. Hariri, the late former Prime Minister of Lebanon, who was a Boston University trustee. Hariri's two sons attended BU, and Hariri's philanthropic foundation made a donation for the construction of the new building.\\n\",\n",
       " 'The BU Questrom School of Business offers undergraduate Bachelor of Science degrees in Business Administration with concentrations in Finance, Information Systems, Accounting, Marketing, Operations and Technology Management, Entrepreneurship, General Management, International Management, Organization Behavior and Business Law. The Boston University Collaborative Degree Program is a program for a select group of students who choose to pursue a second degree in another field in another BU college; common BUCOP subjects include economics, mathematics, international relations, advertising, and engineering.\\n',\n",
       " \"The BU Questrom School of Business's Honors Program, which began in 1998, is a business program to which academically-talented freshmen and sophomores are invited.[7]\\n\",\n",
       " 'In order to be admitted into the Honors Program sophomore year, students must have a minimum 3.5 GPA in at least 36 credits of completed academic coursework. The application process consists of a cover letter, a resume, an essay, two letters of recommendation, and a personal interview.[8]\\n',\n",
       " 'The BU Questrom School of Business offers an online and residential Master of Business Administration (MBA), a Master of Science in Digital Innovation combined with an MBA (MBA/MSDi), a  Master of Science in Mathematical Finance (MSMF), a Master of Science in Management Studies (MSMS) and two Doctor of Philosophy (Ph.D.) degrees. The MBA degree is offered with concentrations in Social Impact and Health Sector Management (which can also be studied as part of the MBA/MSDi program). The two available Ph.D. degrees are in Management and Mathematical Finance.[9][10]\\n',\n",
       " 'Graduate programs enrolled 281 Full-time MBA, 406 Part-time MBA, 61 Executive MBA, and 50 Ph.D. students during the 2015-16 school year.[11]\\n',\n",
       " 'The school offers several MBA dual degree programs in conjunction with other BU schools:\\n',\n",
       " 'The Questrom School of Business offers several executive education programs and seminars as well as an 18-month Executive MBA program, which meets every other Friday through Saturday and offers professionals an opportunity to obtain an MBA and build management skills without leaving their jobs.\\n',\n",
       " 'The Executive Leadership Center offers open registration and custom-designed management seminars, ranging from one day to several weeks duration.\\n',\n",
       " \"The Questrom School of Business offers several opportunities to study abroad during short, 3-credit international field seminars.  The Innovation Ecosystems Field Seminar focuses on tech innovation in Israel, with company visits in Tel Aviv and Jerusalem, and cultural visits to Masada and the Dead Sea.  The India Field Seminar explores the global forces of the health sector as they intersect with the dynamics of an emerging economy.  The Latin America Field Seminar, which takes place in both Chile and Argentina, focuses on the role of business in society as it relates to environmental sustainability, corporate social responsibility and the triple bottom line.  The Europe Field Seminar, which travels to Belgium, France, the Netherlands and Hungary, covers topics such as macroeconomic policy, European Integration, finance, international trade, and business culture.  The Asia Field Seminar focuses on China's economic development.\\n\",\n",
       " 'Since 2006, the BU Questrom School of Business has hosted the annual International Tech Strategy Business Case Competition every spring semester. The competition is sponsored by Ericsson. Business schools from across the U.S. and the world compete in the competition by invitation only. In the sixth Annual competition, held, March 24–26, 2011, the prizes for first, second, third, and fourth place were $25,000, $15,000, $5,000, and $2,500, respectively.[12]\\n',\n",
       " 'Undergraduate\\n',\n",
       " 'Graduate (rankings for full-time U.S. MBA programs only):\\n',\n",
       " 'Coordinates: 42°20′56″N 71°05′56″W\\ufeff / \\ufeff42.349°N 71.099°W\\ufeff / 42.349; -71.099\\n']"
      ]
     },
     "execution_count": 23,
     "metadata": {},
     "output_type": "execute_result"
    }
   ],
   "source": [
    "paragraphs"
   ]
  },
  {
   "cell_type": "code",
   "execution_count": 24,
   "metadata": {},
   "outputs": [
    {
     "data": {
      "text/plain": [
       "20"
      ]
     },
     "execution_count": 24,
     "metadata": {},
     "output_type": "execute_result"
    }
   ],
   "source": [
    "len(paragraphs)"
   ]
  },
  {
   "cell_type": "code",
   "execution_count": 25,
   "metadata": {},
   "outputs": [
    {
     "data": {
      "text/plain": [
       "\"The Questrom School of Business (formerly, the Boston University School of Management) is the business school at Boston University in Boston, MA, USA. Founded in 1913 as the College of Business Administration, the school offers undergraduate and graduate programs.\\n The BU Questrom School of Business offers a Bachelor of Science in Business Administration (BSBA), Master of Business Administration (MBA) degree (full- and part-time programs), a Master of Science (MS) in Mathematical Finance, a Master of Science in Management Studies (MSMS), executive education programs, and two Ph.D. programs. Both the undergraduate and graduate programs offer dual degree options with other schools and colleges at Boston University.\\n Questrom has some 250 full-time faculty and some 200 part-time faculty, teaching fellows, and active research assistants.[1]\\n October 13, 1913, Boston University business began classes for students in the College of Business Administration. The first three courses were English, Spanish, and Advertising. The Spanish course was taught by Dean Everett Lord. The third course (Advertising) was taught by Charles E. Ballatty.[2]\\n In March 2015, the name was changed from the School of Management to the current, Questrom School of Business. It was named for alumnus Allen Questrom, a former CEO of many department stores, who with his wife Kelli, donated $50 million to Boston University.[3][4]\\n The business school is housed in the Rafik B. Hariri Building, located at 595 Commonwealth Avenue. The building opened in October 1996 and contains over 40 classrooms, a 375-seat lecture hall, five computer labs, and the Frederick S. Pardee Management Library. The building offers wireless Internet access throughout as well as 4,000 wired dataports. A Breadwinners Deli and a wired Starbucks are located on the second floor of the building. The Hariri Building also contains 19 team rooms available only for undergraduate and graduate Questrom students to hold team meetings. Room reservations are made online.[5][6]\\n The building is named after Rafik B. Hariri, the late former Prime Minister of Lebanon, who was a Boston University trustee. Hariri's two sons attended BU, and Hariri's philanthropic foundation made a donation for the construction of the new building.\\n The BU Questrom School of Business offers undergraduate Bachelor of Science degrees in Business Administration with concentrations in Finance, Information Systems, Accounting, Marketing, Operations and Technology Management, Entrepreneurship, General Management, International Management, Organization Behavior and Business Law. The Boston University Collaborative Degree Program is a program for a select group of students who choose to pursue a second degree in another field in another BU college; common BUCOP subjects include economics, mathematics, international relations, advertising, and engineering.\\n The BU Questrom School of Business's Honors Program, which began in 1998, is a business program to which academically-talented freshmen and sophomores are invited.[7]\\n In order to be admitted into the Honors Program sophomore year, students must have a minimum 3.5 GPA in at least 36 credits of completed academic coursework. The application process consists of a cover letter, a resume, an essay, two letters of recommendation, and a personal interview.[8]\\n The BU Questrom School of Business offers an online and residential Master of Business Administration (MBA), a Master of Science in Digital Innovation combined with an MBA (MBA/MSDi), a  Master of Science in Mathematical Finance (MSMF), a Master of Science in Management Studies (MSMS) and two Doctor of Philosophy (Ph.D.) degrees. The MBA degree is offered with concentrations in Social Impact and Health Sector Management (which can also be studied as part of the MBA/MSDi program). The two available Ph.D. degrees are in Management and Mathematical Finance.[9][10]\\n Graduate programs enrolled 281 Full-time MBA, 406 Part-time MBA, 61 Executive MBA, and 50 Ph.D. students during the 2015-16 school year.[11]\\n The school offers several MBA dual degree programs in conjunction with other BU schools:\\n The Questrom School of Business offers several executive education programs and seminars as well as an 18-month Executive MBA program, which meets every other Friday through Saturday and offers professionals an opportunity to obtain an MBA and build management skills without leaving their jobs.\\n The Executive Leadership Center offers open registration and custom-designed management seminars, ranging from one day to several weeks duration.\\n The Questrom School of Business offers several opportunities to study abroad during short, 3-credit international field seminars.  The Innovation Ecosystems Field Seminar focuses on tech innovation in Israel, with company visits in Tel Aviv and Jerusalem, and cultural visits to Masada and the Dead Sea.  The India Field Seminar explores the global forces of the health sector as they intersect with the dynamics of an emerging economy.  The Latin America Field Seminar, which takes place in both Chile and Argentina, focuses on the role of business in society as it relates to environmental sustainability, corporate social responsibility and the triple bottom line.  The Europe Field Seminar, which travels to Belgium, France, the Netherlands and Hungary, covers topics such as macroeconomic policy, European Integration, finance, international trade, and business culture.  The Asia Field Seminar focuses on China's economic development.\\n Since 2006, the BU Questrom School of Business has hosted the annual International Tech Strategy Business Case Competition every spring semester. The competition is sponsored by Ericsson. Business schools from across the U.S. and the world compete in the competition by invitation only. In the sixth Annual competition, held, March 24–26, 2011, the prizes for first, second, third, and fourth place were $25,000, $15,000, $5,000, and $2,500, respectively.[12]\\n Undergraduate\\n Graduate (rankings for full-time U.S. MBA programs only):\\n Coordinates: 42°20′56″N 71°05′56″W\\ufeff / \\ufeff42.349°N 71.099°W\\ufeff / 42.349; -71.099\\n\""
      ]
     },
     "execution_count": 25,
     "metadata": {},
     "output_type": "execute_result"
    }
   ],
   "source": [
    "\" \".join(paragraphs)"
   ]
  },
  {
   "cell_type": "markdown",
   "metadata": {},
   "source": [
    "---"
   ]
  },
  {
   "cell_type": "markdown",
   "metadata": {},
   "source": [
    "# Scraping Links"
   ]
  },
  {
   "cell_type": "code",
   "execution_count": 26,
   "metadata": {},
   "outputs": [],
   "source": [
    "soup = BeautifulSoup(resp.text, 'html.parser')"
   ]
  },
  {
   "cell_type": "code",
   "execution_count": 27,
   "metadata": {},
   "outputs": [],
   "source": [
    "links = soup.find_all(\"a\")"
   ]
  },
  {
   "cell_type": "code",
   "execution_count": 29,
   "metadata": {},
   "outputs": [
    {
     "data": {
      "text/plain": [
       "[<a id=\"top\"></a>,\n",
       " <a class=\"mw-jump-link\" href=\"#mw-head\">Jump to navigation</a>,\n",
       " <a class=\"mw-jump-link\" href=\"#searchInput\">Jump to search</a>,\n",
       " <a class=\"image\" href=\"/wiki/File:BU_School_of_Management.JPG\"><img alt=\"BU School of Management.JPG\" data-file-height=\"1000\" data-file-width=\"1474\" decoding=\"async\" height=\"170\" src=\"//upload.wikimedia.org/wikipedia/commons/thumb/7/74/BU_School_of_Management.JPG/250px-BU_School_of_Management.JPG\" srcset=\"//upload.wikimedia.org/wikipedia/commons/thumb/7/74/BU_School_of_Management.JPG/375px-BU_School_of_Management.JPG 1.5x, //upload.wikimedia.org/wikipedia/commons/thumb/7/74/BU_School_of_Management.JPG/500px-BU_School_of_Management.JPG 2x\" width=\"250\"/></a>,\n",
       " <a class=\"mw-redirect\" href=\"/wiki/Private_school\" title=\"Private school\">Private</a>,\n",
       " <a href=\"/wiki/Dean_(education)\" title=\"Dean (education)\">Dean</a>,\n",
       " <a href=\"/wiki/Undergraduate_education\" title=\"Undergraduate education\">Undergraduates</a>,\n",
       " <a href=\"/wiki/Postgraduate_education\" title=\"Postgraduate education\">Postgraduates</a>,\n",
       " <a href=\"/wiki/Boston\" title=\"Boston\">Boston</a>,\n",
       " <a href=\"/wiki/Massachusetts\" title=\"Massachusetts\">Massachusetts</a>]"
      ]
     },
     "execution_count": 29,
     "metadata": {},
     "output_type": "execute_result"
    }
   ],
   "source": [
    "links[:10]"
   ]
  },
  {
   "cell_type": "code",
   "execution_count": 30,
   "metadata": {},
   "outputs": [
    {
     "ename": "KeyError",
     "evalue": "'href'",
     "output_type": "error",
     "traceback": [
      "\u001b[0;31m---------------------------------------------------------------------------\u001b[0m",
      "\u001b[0;31mKeyError\u001b[0m                                  Traceback (most recent call last)",
      "\u001b[0;32m<ipython-input-30-613730dac4cc>\u001b[0m in \u001b[0;36m<module>\u001b[0;34m\u001b[0m\n\u001b[1;32m      1\u001b[0m \u001b[0;32mfor\u001b[0m \u001b[0mlink\u001b[0m \u001b[0;32min\u001b[0m \u001b[0mlinks\u001b[0m\u001b[0;34m:\u001b[0m\u001b[0;34m\u001b[0m\u001b[0;34m\u001b[0m\u001b[0m\n\u001b[0;32m----> 2\u001b[0;31m     \u001b[0mlink\u001b[0m\u001b[0;34m[\u001b[0m\u001b[0;34m'href'\u001b[0m\u001b[0;34m]\u001b[0m\u001b[0;34m\u001b[0m\u001b[0;34m\u001b[0m\u001b[0m\n\u001b[0m",
      "\u001b[0;32m~/miniconda3/envs/BA765/lib/python3.8/site-packages/bs4/element.py\u001b[0m in \u001b[0;36m__getitem__\u001b[0;34m(self, key)\u001b[0m\n\u001b[1;32m   1404\u001b[0m         \"\"\"tag[key] returns the value of the 'key' attribute for the Tag,\n\u001b[1;32m   1405\u001b[0m         and throws an exception if it's not there.\"\"\"\n\u001b[0;32m-> 1406\u001b[0;31m         \u001b[0;32mreturn\u001b[0m \u001b[0mself\u001b[0m\u001b[0;34m.\u001b[0m\u001b[0mattrs\u001b[0m\u001b[0;34m[\u001b[0m\u001b[0mkey\u001b[0m\u001b[0;34m]\u001b[0m\u001b[0;34m\u001b[0m\u001b[0;34m\u001b[0m\u001b[0m\n\u001b[0m\u001b[1;32m   1407\u001b[0m \u001b[0;34m\u001b[0m\u001b[0m\n\u001b[1;32m   1408\u001b[0m     \u001b[0;32mdef\u001b[0m \u001b[0m__iter__\u001b[0m\u001b[0;34m(\u001b[0m\u001b[0mself\u001b[0m\u001b[0;34m)\u001b[0m\u001b[0;34m:\u001b[0m\u001b[0;34m\u001b[0m\u001b[0;34m\u001b[0m\u001b[0m\n",
      "\u001b[0;31mKeyError\u001b[0m: 'href'"
     ]
    }
   ],
   "source": [
    "for link in links:\n",
    "    link['href']"
   ]
  },
  {
   "cell_type": "code",
   "execution_count": 31,
   "metadata": {},
   "outputs": [
    {
     "data": {
      "text/plain": [
       "['#mw-head',\n",
       " '#searchInput',\n",
       " '/wiki/File:BU_School_of_Management.JPG',\n",
       " '/wiki/Private_school',\n",
       " '/wiki/Dean_(education)']"
      ]
     },
     "execution_count": 31,
     "metadata": {},
     "output_type": "execute_result"
    }
   ],
   "source": [
    "# list comprehensions\n",
    "links_parsed = [link['href'] for link in links if link.has_attr(\"href\")]\n",
    "links_parsed[:5]"
   ]
  },
  {
   "cell_type": "code",
   "execution_count": 32,
   "metadata": {},
   "outputs": [
    {
     "data": {
      "text/plain": [
       "['', 'Jump to navigation', 'Jump to search', '', 'Private']"
      ]
     },
     "execution_count": 32,
     "metadata": {},
     "output_type": "execute_result"
    }
   ],
   "source": [
    "link_text = [link.text for link in links]\n",
    "link_text[:5]"
   ]
  },
  {
   "cell_type": "code",
   "execution_count": 33,
   "metadata": {},
   "outputs": [
    {
     "data": {
      "text/plain": [
       "False"
      ]
     },
     "execution_count": 33,
     "metadata": {},
     "output_type": "execute_result"
    }
   ],
   "source": [
    "len(links_parsed) == len(link_text)"
   ]
  },
  {
   "cell_type": "code",
   "execution_count": 35,
   "metadata": {},
   "outputs": [
    {
     "data": {
      "text/plain": [
       "[('Jump to navigation', '#mw-head'),\n",
       " ('Jump to search', '#searchInput'),\n",
       " ('', '/wiki/File:BU_School_of_Management.JPG'),\n",
       " ('Private', '/wiki/Private_school'),\n",
       " ('Dean', '/wiki/Dean_(education)')]"
      ]
     },
     "execution_count": 35,
     "metadata": {},
     "output_type": "execute_result"
    }
   ],
   "source": [
    "# tuple\n",
    "link_data = [(link.text, link['href']) for link in links if link.has_attr(\"href\")]\n",
    "link_data[:5]"
   ]
  },
  {
   "cell_type": "code",
   "execution_count": 37,
   "metadata": {},
   "outputs": [
    {
     "data": {
      "text/plain": [
       "[('Jump to navigation', '#mw-head'),\n",
       " ('Jump to search', '#searchInput'),\n",
       " ('', '/wiki/File:BU_School_of_Management.JPG'),\n",
       " ('Private', '/wiki/Private_school'),\n",
       " ('Dean', '/wiki/Dean_(education)'),\n",
       " ('Undergraduates', '/wiki/Undergraduate_education'),\n",
       " ('Postgraduates', '/wiki/Postgraduate_education'),\n",
       " ('Boston', '/wiki/Boston'),\n",
       " ('Massachusetts', '/wiki/Massachusetts'),\n",
       " ('United States', '/wiki/United_States'),\n",
       " ('Urban', '/wiki/Urban_area'),\n",
       " ('Questrom Website', 'http://www.bu.edu/questrom/'),\n",
       " ('business school', '/wiki/Business_school'),\n",
       " ('Boston University', '/wiki/Boston_University'),\n",
       " ('Boston', '/wiki/Boston'),\n",
       " ('undergraduate', '/wiki/Undergraduate_education'),\n",
       " ('graduate', '/wiki/Graduate_education'),\n",
       " ('Bachelor of Science in Business Administration',\n",
       "  '/wiki/Bachelor_of_Science_in_Business_Administration'),\n",
       " ('Master of Business Administration',\n",
       "  '/wiki/Master_of_Business_Administration'),\n",
       " ('Master of Science', '/wiki/Master_of_Science')]"
      ]
     },
     "execution_count": 37,
     "metadata": {},
     "output_type": "execute_result"
    }
   ],
   "source": [
    "link_data[:20]"
   ]
  },
  {
   "cell_type": "code",
   "execution_count": 40,
   "metadata": {},
   "outputs": [
    {
     "data": {
      "text/plain": [
       "bs4.element.ResultSet"
      ]
     },
     "execution_count": 40,
     "metadata": {},
     "output_type": "execute_result"
    }
   ],
   "source": [
    "# lets only pull links that are http*\n",
    "http_links = soup.find_all(\"a\", attrs={'href': re.compile(\"^http.*\")})\n",
    "type(http_links)"
   ]
  },
  {
   "cell_type": "code",
   "execution_count": 41,
   "metadata": {},
   "outputs": [
    {
     "data": {
      "text/plain": [
       "['http://www.bu.edu/questrom/',\n",
       " 'http://management.bu.edu/about/facts/index.html',\n",
       " 'https://web.archive.org/web/20060515211324/http://management.bu.edu/about/facts/index.html',\n",
       " 'https://web.archive.org/web/20160304025610/http://www.bu.edu/interactive-design/2013/09/22/school-of-management-centennial/',\n",
       " 'http://www.bu.edu/interactive-design/2013/09/22/school-of-management-centennial/']"
      ]
     },
     "execution_count": 41,
     "metadata": {},
     "output_type": "execute_result"
    }
   ],
   "source": [
    "http_urls = [links['href'] for links in http_links]\n",
    "http_urls[:5]"
   ]
  },
  {
   "cell_type": "markdown",
   "metadata": {},
   "source": [
    "# Utilities, Parsing Web Tables, and Downloading Files"
   ]
  },
  {
   "cell_type": "code",
   "execution_count": 2,
   "metadata": {},
   "outputs": [],
   "source": [
    "URL = \"https://en.wikipedia.org/wiki/List_of_Super_Bowl_champions\""
   ]
  },
  {
   "cell_type": "code",
   "execution_count": 3,
   "metadata": {},
   "outputs": [],
   "source": [
    "tables = pd.read_html(URL)"
   ]
  },
  {
   "cell_type": "code",
   "execution_count": 4,
   "metadata": {},
   "outputs": [
    {
     "data": {
      "text/plain": [
       "list"
      ]
     },
     "execution_count": 4,
     "metadata": {},
     "output_type": "execute_result"
    }
   ],
   "source": [
    "type(tables)"
   ]
  },
  {
   "cell_type": "code",
   "execution_count": 5,
   "metadata": {},
   "outputs": [
    {
     "data": {
      "text/plain": [
       "16"
      ]
     },
     "execution_count": 5,
     "metadata": {},
     "output_type": "execute_result"
    }
   ],
   "source": [
    "len(tables)"
   ]
  },
  {
   "cell_type": "code",
   "execution_count": 8,
   "metadata": {},
   "outputs": [],
   "source": [
    "superbowl = tables[1]"
   ]
  },
  {
   "cell_type": "code",
   "execution_count": 9,
   "metadata": {},
   "outputs": [
    {
     "data": {
      "text/html": [
       "<div>\n",
       "<style scoped>\n",
       "    .dataframe tbody tr th:only-of-type {\n",
       "        vertical-align: middle;\n",
       "    }\n",
       "\n",
       "    .dataframe tbody tr th {\n",
       "        vertical-align: top;\n",
       "    }\n",
       "\n",
       "    .dataframe thead th {\n",
       "        text-align: right;\n",
       "    }\n",
       "</style>\n",
       "<table border=\"1\" class=\"dataframe\">\n",
       "  <thead>\n",
       "    <tr style=\"text-align: right;\">\n",
       "      <th></th>\n",
       "      <th>Game</th>\n",
       "      <th>Date/Season</th>\n",
       "      <th>Winning team</th>\n",
       "      <th>Score</th>\n",
       "      <th>Losing team</th>\n",
       "      <th>Venue</th>\n",
       "      <th>City</th>\n",
       "      <th>Attendance</th>\n",
       "      <th>Ref</th>\n",
       "    </tr>\n",
       "  </thead>\n",
       "  <tbody>\n",
       "    <tr>\n",
       "      <th>0</th>\n",
       "      <td>I[sb 1]</td>\n",
       "      <td>January 15, 1967 (1966 AFL/1966 NFL)</td>\n",
       "      <td>Green Bay Packersn(1, 1–0)</td>\n",
       "      <td>35–10</td>\n",
       "      <td>Kansas City Chiefsa(1, 0–1)</td>\n",
       "      <td>Los Angeles Memorial Coliseum</td>\n",
       "      <td>Los Angeles, California[sb 2]</td>\n",
       "      <td>61946</td>\n",
       "      <td>[12][13]</td>\n",
       "    </tr>\n",
       "    <tr>\n",
       "      <th>1</th>\n",
       "      <td>II[sb 1]</td>\n",
       "      <td>January 14, 1968 (1967 AFL/1967 NFL)</td>\n",
       "      <td>Green Bay Packersn(2, 2–0)</td>\n",
       "      <td>33–14</td>\n",
       "      <td>Oakland Raidersa(1, 0–1)</td>\n",
       "      <td>Miami Orange Bowl</td>\n",
       "      <td>Miami, Florida[sb 3]</td>\n",
       "      <td>75546</td>\n",
       "      <td>[14][13]</td>\n",
       "    </tr>\n",
       "    <tr>\n",
       "      <th>2</th>\n",
       "      <td>III[sb 1]</td>\n",
       "      <td>January 12, 1969 (1968 AFL/1968 NFL)</td>\n",
       "      <td>New York Jetsa(1, 1–0)</td>\n",
       "      <td>16–7</td>\n",
       "      <td>Baltimore Coltsn(1, 0–1)</td>\n",
       "      <td>Miami Orange Bowl (2)</td>\n",
       "      <td>Miami, Florida (2)[sb 3]</td>\n",
       "      <td>75389</td>\n",
       "      <td>[15][13]</td>\n",
       "    </tr>\n",
       "  </tbody>\n",
       "</table>\n",
       "</div>"
      ],
      "text/plain": [
       "        Game                           Date/Season  \\\n",
       "0    I[sb 1]  January 15, 1967 (1966 AFL/1966 NFL)   \n",
       "1   II[sb 1]  January 14, 1968 (1967 AFL/1967 NFL)   \n",
       "2  III[sb 1]  January 12, 1969 (1968 AFL/1968 NFL)   \n",
       "\n",
       "                 Winning team  Score                  Losing team  \\\n",
       "0  Green Bay Packersn(1, 1–0)  35–10  Kansas City Chiefsa(1, 0–1)   \n",
       "1  Green Bay Packersn(2, 2–0)  33–14     Oakland Raidersa(1, 0–1)   \n",
       "2      New York Jetsa(1, 1–0)   16–7     Baltimore Coltsn(1, 0–1)   \n",
       "\n",
       "                           Venue                           City Attendance  \\\n",
       "0  Los Angeles Memorial Coliseum  Los Angeles, California[sb 2]      61946   \n",
       "1              Miami Orange Bowl           Miami, Florida[sb 3]      75546   \n",
       "2          Miami Orange Bowl (2)       Miami, Florida (2)[sb 3]      75389   \n",
       "\n",
       "        Ref  \n",
       "0  [12][13]  \n",
       "1  [14][13]  \n",
       "2  [15][13]  "
      ]
     },
     "execution_count": 9,
     "metadata": {},
     "output_type": "execute_result"
    }
   ],
   "source": [
    "superbowl.head(3)"
   ]
  },
  {
   "cell_type": "markdown",
   "metadata": {},
   "source": [
    "## Download data the from web\n",
    "\n",
    "\n",
    "> This is not a notebook specific action"
   ]
  },
  {
   "cell_type": "code",
   "execution_count": null,
   "metadata": {},
   "outputs": [],
   "source": [
    "URL = \"https://vincentarelbundock.github.io/Rdatasets/csv/ggplot2/diamonds.csv\""
   ]
  },
  {
   "cell_type": "markdown",
   "metadata": {},
   "source": [
    "> wget"
   ]
  },
  {
   "cell_type": "code",
   "execution_count": 10,
   "metadata": {},
   "outputs": [
    {
     "name": "stdout",
     "output_type": "stream",
     "text": [
      "--2020-10-19 15:22:19--  https://vincentarelbundock.github.io/Rdatasets/csv/ggplot2/diamonds.csv\n",
      "Resolving vincentarelbundock.github.io (vincentarelbundock.github.io)... 185.199.109.153, 185.199.108.153, 185.199.111.153, ...\n",
      "Connecting to vincentarelbundock.github.io (vincentarelbundock.github.io)|185.199.109.153|:443... connected.\n",
      "HTTP request sent, awaiting response... 200 OK\n",
      "Length: 3192560 (3.0M) [text/csv]\n",
      "Saving to: ‘diamonds.csv’\n",
      "\n",
      "diamonds.csv        100%[===================>]   3.04M  5.96MB/s    in 0.5s    \n",
      "\n",
      "2020-10-19 15:22:20 (5.96 MB/s) - ‘diamonds.csv’ saved [3192560/3192560]\n",
      "\n"
     ]
    }
   ],
   "source": [
    "! wget https://vincentarelbundock.github.io/Rdatasets/csv/ggplot2/diamonds.csv"
   ]
  },
  {
   "cell_type": "code",
   "execution_count": null,
   "metadata": {},
   "outputs": [],
   "source": []
  }
 ],
 "metadata": {
  "kernelspec": {
   "display_name": "Python 3",
   "language": "python",
   "name": "python3"
  },
  "language_info": {
   "codemirror_mode": {
    "name": "ipython",
    "version": 3
   },
   "file_extension": ".py",
   "mimetype": "text/x-python",
   "name": "python",
   "nbconvert_exporter": "python",
   "pygments_lexer": "ipython3",
   "version": "3.8.5"
  }
 },
 "nbformat": 4,
 "nbformat_minor": 4
}
